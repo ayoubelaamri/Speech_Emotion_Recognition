{
 "cells": [
  {
   "cell_type": "code",
   "execution_count": 1,
   "metadata": {
    "colab": {
     "base_uri": "https://localhost:8080/",
     "height": 393
    },
    "executionInfo": {
     "elapsed": 426,
     "status": "error",
     "timestamp": 1637145395395,
     "user": {
      "displayName": "SenorJob",
      "photoUrl": "https://lh3.googleusercontent.com/a-/AOh14Gh3oT6B2tLDgmDQBsIDkR5HV-fZIQg7_QHGL4Flew=s64",
      "userId": "01955796520856523057"
     },
     "user_tz": -60
    },
    "id": "6jePrTQ3cWcB",
    "outputId": "b15fb96e-4e38-4465-dff8-95ec66319570"
   },
   "outputs": [],
   "source": [
    "# Importing required libraries \n",
    "from keras.models import Sequential, Model, model_from_json\n",
    "import matplotlib.pyplot as plt\n",
    "import keras \n",
    "import pickle\n",
    "import wave  # !pip install wave\n",
    "import os\n",
    "import pandas as pd\n",
    "import numpy as np\n",
    "import sys\n",
    "import warnings\n",
    "import librosa\n",
    "import librosa.display\n",
    "import IPython.display as ipd  # To play sound in the notebook\n",
    "\n",
    "from tensorflow.keras.utils import to_categorical\n",
    "from tensorflow.keras import optimizers\n",
    "\n",
    "import sounddevice as sd\n",
    "\n",
    "# ignore warnings \n",
    "if not sys.warnoptions:\n",
    "    warnings.simplefilter(\"ignore\")"
   ]
  },
  {
   "cell_type": "markdown",
   "metadata": {
    "id": "gQK9bobPcigf"
   },
   "source": [
    "# **1. Audio recording**"
   ]
  },
  {
   "cell_type": "markdown",
   "metadata": {
    "id": "AQpKLKx4kgHy"
   },
   "source": [
    "## **2. Data preparation and prediction**"
   ]
  },
  {
   "cell_type": "code",
   "execution_count": 2,
   "metadata": {
    "id": "ef62sVOokkk0"
   },
   "outputs": [
    {
     "name": "stdout",
     "output_type": "stream",
     "text": [
      "Loaded model from disk\n"
     ]
    }
   ],
   "source": [
    "# loading json and model architecture :\n",
    "json_file = open('./model/model_json_1D.json', 'r')\n",
    "loaded_model_json = json_file.read()\n",
    "json_file.close()\n",
    "loaded_model = model_from_json(loaded_model_json)\n",
    "\n",
    "# load weights into new model\n",
    "loaded_model.load_weights(\"./model/model_1D.h5\")\n",
    "print(\"Loaded model from disk\")\n",
    "\n",
    "# the optimiser\n",
    "opt = optimizers.RMSprop(learning_rate=0.00001, decay=1e-6)\n",
    "loaded_model.compile(loss='categorical_crossentropy', optimizer=opt, metrics=['accuracy'])"
   ]
  },
  {
   "cell_type": "code",
   "execution_count": 3,
   "metadata": {
    "id": "DJBV269NlNae"
   },
   "outputs": [
    {
     "data": {
      "text/html": [
       "<div>\n",
       "<style scoped>\n",
       "    .dataframe tbody tr th:only-of-type {\n",
       "        vertical-align: middle;\n",
       "    }\n",
       "\n",
       "    .dataframe tbody tr th {\n",
       "        vertical-align: top;\n",
       "    }\n",
       "\n",
       "    .dataframe thead th {\n",
       "        text-align: right;\n",
       "    }\n",
       "</style>\n",
       "<table border=\"1\" class=\"dataframe\">\n",
       "  <thead>\n",
       "    <tr style=\"text-align: right;\">\n",
       "      <th></th>\n",
       "      <th>0</th>\n",
       "      <th>1</th>\n",
       "      <th>2</th>\n",
       "      <th>3</th>\n",
       "      <th>4</th>\n",
       "      <th>5</th>\n",
       "      <th>6</th>\n",
       "      <th>7</th>\n",
       "      <th>8</th>\n",
       "      <th>9</th>\n",
       "      <th>...</th>\n",
       "      <th>206</th>\n",
       "      <th>207</th>\n",
       "      <th>208</th>\n",
       "      <th>209</th>\n",
       "      <th>210</th>\n",
       "      <th>211</th>\n",
       "      <th>212</th>\n",
       "      <th>213</th>\n",
       "      <th>214</th>\n",
       "      <th>215</th>\n",
       "    </tr>\n",
       "  </thead>\n",
       "  <tbody>\n",
       "    <tr>\n",
       "      <th>0</th>\n",
       "      <td>-46.555317</td>\n",
       "      <td>-47.138985</td>\n",
       "      <td>-49.506126</td>\n",
       "      <td>-50.332485</td>\n",
       "      <td>-49.198311</td>\n",
       "      <td>-48.018578</td>\n",
       "      <td>-48.555622</td>\n",
       "      <td>-48.102818</td>\n",
       "      <td>-47.35228</td>\n",
       "      <td>-49.859734</td>\n",
       "      <td>...</td>\n",
       "      <td>-52.494144</td>\n",
       "      <td>-51.593437</td>\n",
       "      <td>-53.318974</td>\n",
       "      <td>-55.786404</td>\n",
       "      <td>-54.555508</td>\n",
       "      <td>-53.245281</td>\n",
       "      <td>-55.746098</td>\n",
       "      <td>-57.64333</td>\n",
       "      <td>-54.877254</td>\n",
       "      <td>-54.076523</td>\n",
       "    </tr>\n",
       "  </tbody>\n",
       "</table>\n",
       "<p>1 rows × 216 columns</p>\n",
       "</div>"
      ],
      "text/plain": [
       "         0          1          2          3          4          5    \\\n",
       "0 -46.555317 -47.138985 -49.506126 -50.332485 -49.198311 -48.018578   \n",
       "\n",
       "         6          7         8          9    ...        206        207  \\\n",
       "0 -48.555622 -48.102818 -47.35228 -49.859734  ... -52.494144 -51.593437   \n",
       "\n",
       "         208        209        210        211        212       213        214  \\\n",
       "0 -53.318974 -55.786404 -54.555508 -53.245281 -55.746098 -57.64333 -54.877254   \n",
       "\n",
       "         215  \n",
       "0 -54.076523  \n",
       "\n",
       "[1 rows x 216 columns]"
      ]
     },
     "execution_count": 3,
     "metadata": {},
     "output_type": "execute_result"
    }
   ],
   "source": [
    "# Lets transform the recorded file so we can apply the predictions\n",
    "\n",
    "X, sample_rate = librosa.load('./recordings/female_surprised.wav'\n",
    "                              ,res_type='kaiser_fast'\n",
    "                              ,duration=2.5\n",
    "                              ,sr=44100\n",
    "                              ,offset=0.5\n",
    "                             )\n",
    "\n",
    "sample_rate = np.array(sample_rate)\n",
    "mfccs = np.mean(librosa.feature.mfcc(y=X, sr=sample_rate, n_mfcc=13),axis=0)\n",
    "newdf = pd.DataFrame(data=mfccs).T\n",
    "newdf"
   ]
  },
  {
   "cell_type": "code",
   "execution_count": 4,
   "metadata": {
    "id": "DRFLGa1Hll62"
   },
   "outputs": [
    {
     "name": "stdout",
     "output_type": "stream",
     "text": [
      "1/1 [==============================] - 0s 204ms/step\n"
     ]
    },
    {
     "data": {
      "text/plain": [
       "array([[0.0000000e+00, 1.5835106e-16, 1.3109989e-25, 2.9960216e-14,\n",
       "        1.3988499e-03, 4.3415954e-10, 8.3324253e-10, 1.3181062e-30,\n",
       "        1.9313556e-01, 7.2846872e-32, 5.8274738e-18, 8.0546558e-01,\n",
       "        4.1610899e-13, 6.5885057e-23]], dtype=float32)"
      ]
     },
     "execution_count": 4,
     "metadata": {},
     "output_type": "execute_result"
    }
   ],
   "source": [
    "# Apply predictions\n",
    "newdf= np.expand_dims(newdf, axis=2)\n",
    "newpred = loaded_model.predict(newdf, \n",
    "                         batch_size=16, \n",
    "                         verbose=1)\n",
    "\n",
    "newpred"
   ]
  },
  {
   "cell_type": "code",
   "execution_count": 5,
   "metadata": {
    "id": "JApl6aZUluzX"
   },
   "outputs": [
    {
     "name": "stdout",
     "output_type": "stream",
     "text": [
      "['male_neutral']\n"
     ]
    }
   ],
   "source": [
    "# Append the labels to it before we can make sense as to what it has predicted.\n",
    "\n",
    "infile = open('./model/labels_1D','rb')\n",
    "lb = pickle.load(infile)\n",
    "infile.close()\n",
    "\n",
    "# Get the final predicted label\n",
    "final = newpred.argmax(axis=1)\n",
    "final = final.astype(int).flatten()\n",
    "final = (lb.inverse_transform((final)))\n",
    "print(final) #emo(final) #gender(final) "
   ]
  },
  {
   "cell_type": "code",
   "execution_count": null,
   "metadata": {},
   "outputs": [],
   "source": []
  }
 ],
 "metadata": {
  "colab": {
   "authorship_tag": "ABX9TyPLoO9YYIVx7SrjMF6Y/ZfK",
   "collapsed_sections": [],
   "name": "apply_to_new_data.ipynb",
   "provenance": []
  },
  "interpreter": {
   "hash": "3c85923def05c8775bcf4502a8399feb114ed4a45458c4fae0bec8799d9e1473"
  },
  "kernelspec": {
   "display_name": "SER_Project-qjC93odC",
   "language": "python",
   "name": "ser_project-qjc93odc"
  },
  "language_info": {
   "codemirror_mode": {
    "name": "ipython",
    "version": 3
   },
   "file_extension": ".py",
   "mimetype": "text/x-python",
   "name": "python",
   "nbconvert_exporter": "python",
   "pygments_lexer": "ipython3",
   "version": "3.7.9"
  }
 },
 "nbformat": 4,
 "nbformat_minor": 4
}
